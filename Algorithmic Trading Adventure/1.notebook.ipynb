{
 "cells": [
  {
   "cell_type": "code",
   "execution_count": 1,
   "metadata": {},
   "outputs": [],
   "source": [
    "import yfinance as yf"
   ]
  },
  {
   "cell_type": "code",
   "execution_count": 3,
   "metadata": {},
   "outputs": [
    {
     "name": "stderr",
     "output_type": "stream",
     "text": [
      "C:\\Users\\Sameer\\AppData\\Local\\Temp\\ipykernel_20008\\15592197.py:1: FutureWarning: YF.download() has changed argument auto_adjust default to True\n",
      "  df = yf.download('AAPL',start=\"2018-01-01\",end=\"2023-12-31\",interval=\" 1d\")\n",
      "[*********************100%***********************]  1 of 1 completed\n"
     ]
    }
   ],
   "source": [
    "df = yf.download('AAPL',start=\"2018-01-01\",end=\"2023-12-31\",interval=\" 1d\")"
   ]
  },
  {
   "cell_type": "code",
   "execution_count": 4,
   "metadata": {},
   "outputs": [
    {
     "data": {
      "text/html": [
       "<div>\n",
       "<style scoped>\n",
       "    .dataframe tbody tr th:only-of-type {\n",
       "        vertical-align: middle;\n",
       "    }\n",
       "\n",
       "    .dataframe tbody tr th {\n",
       "        vertical-align: top;\n",
       "    }\n",
       "\n",
       "    .dataframe thead tr th {\n",
       "        text-align: left;\n",
       "    }\n",
       "\n",
       "    .dataframe thead tr:last-of-type th {\n",
       "        text-align: right;\n",
       "    }\n",
       "</style>\n",
       "<table border=\"1\" class=\"dataframe\">\n",
       "  <thead>\n",
       "    <tr>\n",
       "      <th>Price</th>\n",
       "      <th>Close</th>\n",
       "      <th>High</th>\n",
       "      <th>Low</th>\n",
       "      <th>Open</th>\n",
       "      <th>Volume</th>\n",
       "    </tr>\n",
       "    <tr>\n",
       "      <th>Ticker</th>\n",
       "      <th>AAPL</th>\n",
       "      <th>AAPL</th>\n",
       "      <th>AAPL</th>\n",
       "      <th>AAPL</th>\n",
       "      <th>AAPL</th>\n",
       "    </tr>\n",
       "    <tr>\n",
       "      <th>Date</th>\n",
       "      <th></th>\n",
       "      <th></th>\n",
       "      <th></th>\n",
       "      <th></th>\n",
       "      <th></th>\n",
       "    </tr>\n",
       "  </thead>\n",
       "  <tbody>\n",
       "    <tr>\n",
       "      <th>2018-01-02</th>\n",
       "      <td>40.380993</td>\n",
       "      <td>40.390372</td>\n",
       "      <td>39.677736</td>\n",
       "      <td>39.888715</td>\n",
       "      <td>102223600</td>\n",
       "    </tr>\n",
       "    <tr>\n",
       "      <th>2018-01-03</th>\n",
       "      <td>40.373959</td>\n",
       "      <td>40.917812</td>\n",
       "      <td>40.310668</td>\n",
       "      <td>40.444285</td>\n",
       "      <td>118071600</td>\n",
       "    </tr>\n",
       "    <tr>\n",
       "      <th>2018-01-04</th>\n",
       "      <td>40.561501</td>\n",
       "      <td>40.664645</td>\n",
       "      <td>40.338803</td>\n",
       "      <td>40.446634</td>\n",
       "      <td>89738400</td>\n",
       "    </tr>\n",
       "    <tr>\n",
       "      <th>2018-01-05</th>\n",
       "      <td>41.023300</td>\n",
       "      <td>41.110034</td>\n",
       "      <td>40.566184</td>\n",
       "      <td>40.657607</td>\n",
       "      <td>94640000</td>\n",
       "    </tr>\n",
       "    <tr>\n",
       "      <th>2018-01-08</th>\n",
       "      <td>40.870934</td>\n",
       "      <td>41.166300</td>\n",
       "      <td>40.772474</td>\n",
       "      <td>40.870934</td>\n",
       "      <td>82271200</td>\n",
       "    </tr>\n",
       "  </tbody>\n",
       "</table>\n",
       "</div>"
      ],
      "text/plain": [
       "Price           Close       High        Low       Open     Volume\n",
       "Ticker           AAPL       AAPL       AAPL       AAPL       AAPL\n",
       "Date                                                             \n",
       "2018-01-02  40.380993  40.390372  39.677736  39.888715  102223600\n",
       "2018-01-03  40.373959  40.917812  40.310668  40.444285  118071600\n",
       "2018-01-04  40.561501  40.664645  40.338803  40.446634   89738400\n",
       "2018-01-05  41.023300  41.110034  40.566184  40.657607   94640000\n",
       "2018-01-08  40.870934  41.166300  40.772474  40.870934   82271200"
      ]
     },
     "execution_count": 4,
     "metadata": {},
     "output_type": "execute_result"
    }
   ],
   "source": [
    "df.head()"
   ]
  },
  {
   "cell_type": "code",
   "execution_count": 8,
   "metadata": {},
   "outputs": [
    {
     "data": {
      "text/plain": [
       "MultiIndex([( 'Close', 'AAPL'),\n",
       "            (  'High', 'AAPL'),\n",
       "            (   'Low', 'AAPL'),\n",
       "            (  'Open', 'AAPL'),\n",
       "            ('Volume', 'AAPL')],\n",
       "           names=['Price', 'Ticker'])"
      ]
     },
     "execution_count": 8,
     "metadata": {},
     "output_type": "execute_result"
    }
   ],
   "source": [
    "df.columns"
   ]
  },
  {
   "cell_type": "code",
   "execution_count": 9,
   "metadata": {},
   "outputs": [
    {
     "data": {
      "text/plain": [
       "(1509, 5)"
      ]
     },
     "execution_count": 9,
     "metadata": {},
     "output_type": "execute_result"
    }
   ],
   "source": [
    "df.shape"
   ]
  },
  {
   "cell_type": "code",
   "execution_count": 10,
   "metadata": {},
   "outputs": [
    {
     "data": {
      "text/html": [
       "<div>\n",
       "<style scoped>\n",
       "    .dataframe tbody tr th:only-of-type {\n",
       "        vertical-align: middle;\n",
       "    }\n",
       "\n",
       "    .dataframe tbody tr th {\n",
       "        vertical-align: top;\n",
       "    }\n",
       "\n",
       "    .dataframe thead th {\n",
       "        text-align: right;\n",
       "    }\n",
       "</style>\n",
       "<table border=\"1\" class=\"dataframe\">\n",
       "  <thead>\n",
       "    <tr style=\"text-align: right;\">\n",
       "      <th>Price</th>\n",
       "      <th>Close</th>\n",
       "      <th>High</th>\n",
       "      <th>Low</th>\n",
       "      <th>Open</th>\n",
       "      <th>Volume</th>\n",
       "    </tr>\n",
       "    <tr>\n",
       "      <th>Date</th>\n",
       "      <th></th>\n",
       "      <th></th>\n",
       "      <th></th>\n",
       "      <th></th>\n",
       "      <th></th>\n",
       "    </tr>\n",
       "  </thead>\n",
       "  <tbody>\n",
       "    <tr>\n",
       "      <th>2018-01-02</th>\n",
       "      <td>40.380993</td>\n",
       "      <td>40.390372</td>\n",
       "      <td>39.677736</td>\n",
       "      <td>39.888715</td>\n",
       "      <td>102223600</td>\n",
       "    </tr>\n",
       "    <tr>\n",
       "      <th>2018-01-03</th>\n",
       "      <td>40.373959</td>\n",
       "      <td>40.917812</td>\n",
       "      <td>40.310668</td>\n",
       "      <td>40.444285</td>\n",
       "      <td>118071600</td>\n",
       "    </tr>\n",
       "    <tr>\n",
       "      <th>2018-01-04</th>\n",
       "      <td>40.561501</td>\n",
       "      <td>40.664645</td>\n",
       "      <td>40.338803</td>\n",
       "      <td>40.446634</td>\n",
       "      <td>89738400</td>\n",
       "    </tr>\n",
       "    <tr>\n",
       "      <th>2018-01-05</th>\n",
       "      <td>41.023300</td>\n",
       "      <td>41.110034</td>\n",
       "      <td>40.566184</td>\n",
       "      <td>40.657607</td>\n",
       "      <td>94640000</td>\n",
       "    </tr>\n",
       "    <tr>\n",
       "      <th>2018-01-08</th>\n",
       "      <td>40.870934</td>\n",
       "      <td>41.166300</td>\n",
       "      <td>40.772474</td>\n",
       "      <td>40.870934</td>\n",
       "      <td>82271200</td>\n",
       "    </tr>\n",
       "  </tbody>\n",
       "</table>\n",
       "</div>"
      ],
      "text/plain": [
       "Price           Close       High        Low       Open     Volume\n",
       "Date                                                             \n",
       "2018-01-02  40.380993  40.390372  39.677736  39.888715  102223600\n",
       "2018-01-03  40.373959  40.917812  40.310668  40.444285  118071600\n",
       "2018-01-04  40.561501  40.664645  40.338803  40.446634   89738400\n",
       "2018-01-05  41.023300  41.110034  40.566184  40.657607   94640000\n",
       "2018-01-08  40.870934  41.166300  40.772474  40.870934   82271200"
      ]
     },
     "execution_count": 10,
     "metadata": {},
     "output_type": "execute_result"
    }
   ],
   "source": [
    "df.columns = df.columns.droplevel(1) \n",
    "df.head()\n"
   ]
  },
  {
   "cell_type": "code",
   "execution_count": 11,
   "metadata": {},
   "outputs": [
    {
     "data": {
      "text/plain": [
       "np.int64(0)"
      ]
     },
     "execution_count": 11,
     "metadata": {},
     "output_type": "execute_result"
    }
   ],
   "source": [
    "df.index.duplicated().sum()"
   ]
  },
  {
   "cell_type": "code",
   "execution_count": null,
   "metadata": {},
   "outputs": [],
   "source": [
    "df = df[~df.index.duplicated(keep='first')]"
   ]
  },
  {
   "cell_type": "code",
   "execution_count": 12,
   "metadata": {},
   "outputs": [
    {
     "data": {
      "text/plain": [
       "Price\n",
       "Close     0\n",
       "High      0\n",
       "Low       0\n",
       "Open      0\n",
       "Volume    0\n",
       "dtype: int64"
      ]
     },
     "execution_count": 12,
     "metadata": {},
     "output_type": "execute_result"
    }
   ],
   "source": [
    "df.isna().sum()"
   ]
  },
  {
   "cell_type": "code",
   "execution_count": null,
   "metadata": {},
   "outputs": [],
   "source": [
    "df = df.ffill()"
   ]
  },
  {
   "cell_type": "code",
   "execution_count": 13,
   "metadata": {},
   "outputs": [],
   "source": [
    "df['MA50'] = df['Close'].rolling(window=50).mean()"
   ]
  },
  {
   "cell_type": "code",
   "execution_count": 14,
   "metadata": {},
   "outputs": [],
   "source": [
    "df['MA200'] = df['Close'].rolling(window=200).mean()"
   ]
  },
  {
   "cell_type": "code",
   "execution_count": 15,
   "metadata": {},
   "outputs": [
    {
     "name": "stdout",
     "output_type": "stream",
     "text": [
      "Price            Close        MA50       MA200\n",
      "Date                                          \n",
      "2023-12-15  195.911331  182.129779  175.693997\n",
      "2023-12-18  194.245468  182.499322  175.919439\n",
      "2023-12-19  195.286652  182.859978  176.136261\n",
      "2023-12-20  193.194351  183.190673  176.353633\n",
      "2023-12-21  193.045593  183.490466  176.563990\n",
      "2023-12-22  191.974701  183.750817  176.780251\n",
      "2023-12-26  191.429306  184.037099  177.004106\n",
      "2023-12-27  191.528412  184.327939  177.218728\n",
      "2023-12-28  191.954834  184.658403  177.425014\n",
      "2023-12-29  190.913651  184.993988  177.624119\n"
     ]
    }
   ],
   "source": [
    "print(df[['Close','MA50','MA200']].tail(10))"
   ]
  },
  {
   "cell_type": "code",
   "execution_count": 16,
   "metadata": {},
   "outputs": [
    {
     "name": "stderr",
     "output_type": "stream",
     "text": [
      "C:\\Users\\Sameer\\AppData\\Local\\Temp\\ipykernel_20008\\1032994371.py:2: FutureWarning: ChainedAssignmentError: behaviour will change in pandas 3.0!\n",
      "You are setting values through chained assignment. Currently this works in certain cases, but when using Copy-on-Write (which will become the default behaviour in pandas 3.0) this will never work to update the original DataFrame or Series, because the intermediate object on which we are setting values will behave as a copy.\n",
      "A typical example is when you are setting values in a column of a DataFrame, like:\n",
      "\n",
      "df[\"col\"][row_indexer] = value\n",
      "\n",
      "Use `df.loc[row_indexer, \"col\"] = values` instead, to perform the assignment in a single step and ensure this keeps updating the original `df`.\n",
      "\n",
      "See the caveats in the documentation: https://pandas.pydata.org/pandas-docs/stable/user_guide/indexing.html#returning-a-view-versus-a-copy\n",
      "\n",
      "  df['Signal'][50:] = (df['MA50'][50:] > df['MA200'][50:]).astype(int)\n",
      "C:\\Users\\Sameer\\AppData\\Local\\Temp\\ipykernel_20008\\1032994371.py:2: SettingWithCopyWarning: \n",
      "A value is trying to be set on a copy of a slice from a DataFrame\n",
      "\n",
      "See the caveats in the documentation: https://pandas.pydata.org/pandas-docs/stable/user_guide/indexing.html#returning-a-view-versus-a-copy\n",
      "  df['Signal'][50:] = (df['MA50'][50:] > df['MA200'][50:]).astype(int)\n"
     ]
    }
   ],
   "source": [
    "df['Signal'] = 0\n",
    "df['Signal'][50:] = (df['MA50'][50:] > df['MA200'][50:]).astype(int) "
   ]
  },
  {
   "cell_type": "code",
   "execution_count": 17,
   "metadata": {},
   "outputs": [],
   "source": [
    "df['GoldenCross'] = df['Signal'].diff() == 1"
   ]
  },
  {
   "cell_type": "code",
   "execution_count": 18,
   "metadata": {},
   "outputs": [
    {
     "name": "stdout",
     "output_type": "stream",
     "text": [
      "Golden Cross dates:\n",
      " DatetimeIndex(['2018-10-16', '2019-05-06', '2022-09-26', '2023-03-22'], dtype='datetime64[ns]', name='Date', freq=None)\n"
     ]
    }
   ],
   "source": [
    "golden_cross_dates = df.index[df['GoldenCross']]\n",
    "print(\"Golden Cross dates:\\n\", golden_cross_dates)"
   ]
  },
  {
   "cell_type": "code",
   "execution_count": 33,
   "metadata": {},
   "outputs": [
    {
     "data": {
      "image/png": "[encoded data removed]",
      "text/plain": [
       "<Figure size 1200x600 with 1 Axes>"
      ]
     },
     "metadata": {},
     "output_type": "display_data"
    }
   ],
   "source": [
    "import matplotlib.pyplot as plt\n",
    "\n",
    "plt.figure(figsize=(12,6))\n",
    "plt.plot(df['Close'], label='Close Price')\n",
    "plt.plot(df['MA50'], label='50-day MA')\n",
    "plt.plot(df['MA200'], label='200-day MA')\n",
    "plt.scatter(df.index[df['GoldenCross']], df['MA50'][df['GoldenCross']], \n",
    "            marker='^', color='black', s=100, label='Golden Cross')\n",
    "plt.legend()\n",
    "plt.show()"
   ]
  },
  {
   "cell_type": "code",
   "execution_count": 21,
   "metadata": {},
   "outputs": [],
   "source": [
    "golden_cross_dates = df.index[df['GoldenCross']]\n"
   ]
  },
  {
   "cell_type": "code",
   "execution_count": 22,
   "metadata": {},
   "outputs": [],
   "source": [
    "budget = 5000\n",
    "buy_date = golden_cross_dates[0]\n",
    "buy_price = df.loc[buy_date, 'Close']"
   ]
  },
  {
   "cell_type": "code",
   "execution_count": 23,
   "metadata": {},
   "outputs": [
    {
     "name": "stdout",
     "output_type": "stream",
     "text": [
      "Buy on 2018-10-16 00:00:00 at $52.67 per share. Max shares: 94.0\n"
     ]
    }
   ],
   "source": [
    "max_shares = budget // buy_price\n",
    "print(f\"Buy on {buy_date} at ${buy_price:.2f} per share. Max shares: {max_shares}\")"
   ]
  },
  {
   "cell_type": "code",
   "execution_count": 24,
   "metadata": {},
   "outputs": [],
   "source": [
    "df['Signal'] = (df['MA50'] > df['MA200']).astype(int)  \n",
    "df['DeathCross'] = df['Signal'].diff() == -1 "
   ]
  },
  {
   "cell_type": "code",
   "execution_count": 25,
   "metadata": {},
   "outputs": [
    {
     "name": "stdout",
     "output_type": "stream",
     "text": [
      "Sell on 2018-12-21 00:00:00 at $35.86 per share\n"
     ]
    }
   ],
   "source": [
    "sell_date = df.index[(df['DeathCross']) & (df.index > buy_date)][0]\n",
    "sell_price = df.loc[sell_date, 'Close']\n",
    "print(f\"Sell on {sell_date} at ${sell_price:.2f} per share\")\n"
   ]
  },
  {
   "cell_type": "code",
   "execution_count": 28,
   "metadata": {},
   "outputs": [
    {
     "name": "stdout",
     "output_type": "stream",
     "text": [
      "Cash after selling: $3371.26\n"
     ]
    }
   ],
   "source": [
    "cash_after_sell = max_shares * sell_price\n",
    "print(f\"Cash after selling: ${cash_after_sell:.2f}\")\n"
   ]
  },
  {
   "cell_type": "code",
   "execution_count": 31,
   "metadata": {},
   "outputs": [],
   "source": [
    "# Only force sell if we never sold yet (no death cross after buy)\n",
    "if 'sell_date' not in locals() or sell_date <= buy_date:\n",
    "    final_price = df['Close'].iloc[-1]\n",
    "    final_cash = max_shares * final_price\n",
    "    print(f\"Force sell on last day {df.index[-1]} at ${final_price:.2f} per share\")\n",
    "    print(f\"Final Cash after closing position: ${final_cash:.2f}\")\n"
   ]
  },
  {
   "cell_type": "code",
   "execution_count": 32,
   "metadata": {},
   "outputs": [
    {
     "name": "stdout",
     "output_type": "stream",
     "text": [
      "Profit/Loss: $12945.88\n"
     ]
    }
   ],
   "source": [
    "if 'final_cash' in locals():\n",
    "    profit_loss = final_cash - budget\n",
    "else:\n",
    "    profit_loss = cash_after_sell - budget\n",
    "\n",
    "print(f\"Profit/Loss: ${profit_loss:.2f}\")"
   ]
  }
 ],
 "metadata": {
  "kernelspec": {
   "display_name": "venv",
   "language": "python",
   "name": "python3"
  },
  "language_info": {
   "codemirror_mode": {
    "name": "ipython",
    "version": 3
   },
   "file_extension": ".py",
   "mimetype": "text/x-python",
   "name": "python",
   "nbconvert_exporter": "python",
   "pygments_lexer": "ipython3",
   "version": "3.12.1"
  }
 },
 "nbformat": 4,
 "nbformat_minor": 2
}

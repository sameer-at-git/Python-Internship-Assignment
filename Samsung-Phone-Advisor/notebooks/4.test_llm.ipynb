{
 "cells": [
  {
   "cell_type": "code",
   "execution_count": null,
   "id": "fcc6d9b7",
   "metadata": {},
   "outputs": [],
   "source": [
    "!pip install groq\n",
    "from groq import Groq\n",
    "\n",
    "chatgroq_api_key = os.getenv(\"CHATGROQ_API_KEY\")\n",
    "\n",
    "def chatbot_reply_groq(user_query, chatgroq_api_key, model=\"llama-3.3-70b-versatile\"):\n",
    "    client = Groq(api_key=chatgroq_api_key)\n",
    "    response = client.chat.completions.create(\n",
    "        model=model,\n",
    "        messages=[{\"role\": \"user\", \"content\": user_query}]\n",
    "    )\n",
    "    return response.choices[0].message.content.strip()\n",
    "\n",
    "print(chatbot_reply_groq(\"Explain quantum computing in simple terms.\", chatgroq_api_key))"
   ]
  }
 ],
 "metadata": {
  "language_info": {
   "name": "python"
  }
 },
 "nbformat": 4,
 "nbformat_minor": 5
}

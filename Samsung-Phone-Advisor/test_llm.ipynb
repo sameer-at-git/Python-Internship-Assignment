{
 "cells": [
  {
   "cell_type": "code",
   "execution_count": null,
   "id": "fcc6d9b7",
   "metadata": {},
   "outputs": [],
   "source": [
    "!pip install groq\n",
    "from groq import Groq\n",
    "\n",
    "\n",
    "\n",
    "\n",
    "# Store your API keys in .env later (for now, placeholders)\n",
    "os.environ[\"CHATGROQ_API_KEY\"] = \"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\"\n",
    "\n",
    "chatgroq_api_key = os.getenv(\"CHATGROQ_API_KEY\")\n",
    "\n",
    "\n",
    "\n",
    "\n",
    "\n",
    "def chatbot_reply_groq(user_query, chatgroq_api_key, model=\"llama-3.3-70b-versatile\"):\n",
    "    client = Groq(api_key=chatgroq_api_key)\n",
    "    response = client.chat.completions.create(\n",
    "        model=model,\n",
    "        messages=[{\"role\": \"user\", \"content\": user_query}]\n",
    "    )\n",
    "    return response.choices[0].message.content.strip()\n",
    "\n",
    "# ---- Test it ----\n",
    "print(chatbot_reply_groq(\"Explain quantum computing in simple terms.\", chatgroq_api_key))\n"
   ]
  }
 ],
 "metadata": {
  "language_info": {
   "name": "python"
  }
 },
 "nbformat": 4,
 "nbformat_minor": 5
}
